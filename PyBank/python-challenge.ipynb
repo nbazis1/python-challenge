{
 "cells": [
  {
   "cell_type": "markdown",
   "id": "6216252d-9068-4a18-b1c1-129fd3276611",
   "metadata": {},
   "source": [
    "### Py Bank"
   ]
  },
  {
   "cell_type": "code",
   "execution_count": 26,
   "id": "6782f773-5ae4-4c07-9d9d-d55c9abe10a5",
   "metadata": {},
   "outputs": [
    {
     "name": "stdout",
     "output_type": "stream",
     "text": [
      "../Starter_Code/Resources_PyBank/budget_data.csv\n"
     ]
    }
   ],
   "source": [
    "#Import CSV\n",
    "import os\n",
    "import csv\n",
    "bank_csv = os.path.join('../Starter_Code/Resources_PyBank/budget_data.csv')\n",
    "print(bank_csv)"
   ]
  },
  {
   "cell_type": "code",
   "execution_count": null,
   "id": "36631e81-f8c8-468e-a80d-d51a79609cbd",
   "metadata": {},
   "outputs": [],
   "source": [
    "#Load CSV Module for improved reading; read & print header + rows\n",
    "with open(bank_csv) as csvfile:\n",
    "    csvreader = csv.reader(csvfile, delimiter=',')\n",
    "    print(csvreader)\n",
    "    csv_header = next(csvreader)\n",
    "    print(f\"CSV Header: {csv_header}\")\n",
    "    for row in csvreader:\n",
    "        print(row)"
   ]
  },
  {
   "cell_type": "code",
   "execution_count": 28,
   "id": "dbe1f762-70bb-42bd-b940-7eebf659abd2",
   "metadata": {
    "tags": []
   },
   "outputs": [
    {
     "name": "stdout",
     "output_type": "stream",
     "text": [
      "Total Months:  86\n",
      "Total Net Profits:  22564198\n"
     ]
    }
   ],
   "source": [
    "# Build lists & variables to store values\n",
    "total_months = 0\n",
    "month_of_change = []\n",
    "net_change_list = []\n",
    "greatest_increase = [\"\", 0]\n",
    "greatest_decrease = [\"\", 9999999999999999999]\n",
    "total_net = 0\n",
    "\n",
    "with open(bank_csv) as csvfile:\n",
    "    csvreader = csv.reader(csvfile, delimiter=',')\n",
    "    csv_header = next(csvreader)\n",
    "    for row in csvreader:\n",
    "        total_months += 1\n",
    "        total_net += int(row[1])\n",
    "        \n",
    "    print(\"Total Months: \", total_months)\n",
    "    print(\"Total Net Profits: \", total_net)\n"
   ]
  },
  {
   "cell_type": "code",
   "execution_count": 29,
   "id": "25ddd7b2-7347-4f48-8f0f-36860e9d7742",
   "metadata": {},
   "outputs": [
    {
     "name": "stdout",
     "output_type": "stream",
     "text": [
      "Financial Analysis\n",
      "----------------------------\n",
      "Total Months: 86\n",
      "Total: $22564198\n",
      "Average Change: $-8311.11\n",
      "Greatest Increase in Profits: Aug-16 ($1862002)\n",
      "Greatest Decrease in Profits: Feb-14 ($-1825558)\n",
      "\n"
     ]
    }
   ],
   "source": [
    "# Dependencies\n",
    "import csv\n",
    "import os\n",
    "bank_csv = os.path.join('../Starter_Code/Resources_PyBank/budget_data.csv')\n",
    "# Build lists & variables to store values\n",
    "total_months = 0\n",
    "month_of_change = []\n",
    "net_change_list = []\n",
    "greatest_increase = [\"\", 0]\n",
    "greatest_decrease = [\"\", 9999999999999999999]\n",
    "total_net = 0\n",
    "#Load CSV Module for improved reading; read & print header + rows\n",
    "with open(bank_csv) as csvfile:\n",
    "    csvreader = csv.reader(csvfile)\n",
    "    # Read the header row\n",
    "    csv_header = next(csvreader)\n",
    "    # Extract first row to avoid appending to net_change_list\n",
    "    first_row = next(csvreader)\n",
    "    total_months += 1\n",
    "    total_net += int(first_row[1])\n",
    "    prev_net = int(first_row[1])\n",
    "    for row in csvreader:\n",
    "        # Track the total\n",
    "        total_months += 1\n",
    "        total_net += int(row[1])\n",
    "        # Track the net change\n",
    "        net_change = int(row[1]) - prev_net\n",
    "        prev_net = int(row[1])\n",
    "        net_change_list += [net_change]\n",
    "        month_of_change += [row[0]]\n",
    "        # Calculate the greatest increase\n",
    "        if net_change > greatest_increase[1]:\n",
    "            greatest_increase[0] = row[0]\n",
    "            greatest_increase[1] = net_change\n",
    "        # Calculate the greatest decrease\n",
    "        if net_change < greatest_decrease[1]:\n",
    "            greatest_decrease[0] = row[0]\n",
    "            greatest_decrease[1] = net_change\n",
    "# Calculate the Average Net Change\n",
    "net_monthly_avg = sum(net_change_list) / len(net_change_list)\n",
    "# Generate Output Summary\n",
    "output = (\n",
    "    f\"Financial Analysis\\n\"\n",
    "    f\"----------------------------\\n\"\n",
    "    f\"Total Months: {total_months}\\n\"\n",
    "    f\"Total: ${total_net}\\n\"\n",
    "    f\"Average Change: ${net_monthly_avg:.2f}\\n\"\n",
    "    f\"Greatest Increase in Profits: {greatest_increase[0]} (${greatest_increase[1]})\\n\"\n",
    "    f\"Greatest Decrease in Profits: {greatest_decrease[0]} (${greatest_decrease[1]})\\n\")\n",
    "# Print the output (to terminal)\n",
    "print(output)\n",
    "\n",
    "file_to_output = os.path.join(\"budget_analysis.txt\")\n",
    "# Export the results to text file\n",
    "with open(file_to_output, \"w\") as txt_file:\n",
    "    txt_file.write(output)"
   ]
  },
  {
   "cell_type": "markdown",
   "id": "bdb60a42-4403-44ce-b0d0-5b91c9d9cc17",
   "metadata": {},
   "source": [
    "### Py Poll"
   ]
  },
  {
   "cell_type": "code",
   "execution_count": 24,
   "id": "832686e4-82da-4fc3-bf36-6fffafc0e4ae",
   "metadata": {},
   "outputs": [
    {
     "name": "stdout",
     "output_type": "stream",
     "text": [
      "Charles Casper Stockham: 23.049% 85213\n",
      "Diana DeGette: 73.812% 272892\n",
      "Raymon Anthony Doane: 3.139% 11606\n",
      "\n",
      "\n",
      "\n",
      "    Election Results\n",
      "\n",
      "    -------------------------\n",
      "\n",
      "    Total Votes: 369711\n",
      "\n",
      "    -------------------------\n",
      "\n",
      "    Charles Casper Stockham: 23.049% 85213\n",
      "Diana DeGette: 73.812% 272892\n",
      "Raymon Anthony Doane: 3.139% 11606\n",
      "\n",
      "\n",
      "    -------------------------\n",
      "\n",
      "    Winner: Diana DeGette\n",
      "\n",
      "    -------------------------\n",
      "\n",
      "    \n"
     ]
    }
   ],
   "source": [
    "import csv\n",
    "import os\n",
    "\n",
    "# define the path to the CSV file\n",
    "poll_csv = os.path.join('../Starter_Code/PyPoll/Resources/election_data.csv')\n",
    "\n",
    "# initialize variables\n",
    "total_votes = 0\n",
    "cand = {}\n",
    "max_value_vote = 0\n",
    "max_cand = \"\"\n",
    "\n",
    "# load the CSV file and read the data\n",
    "with open(poll_csv) as csvfile:\n",
    "    csvreader = csv.reader(csvfile)\n",
    "    # read the header row\n",
    "    csv_header = next(csvreader)\n",
    "    # iterate over each row in the CSV file\n",
    "    for row in csvreader:\n",
    "        total_votes += 1\n",
    "        if row[2] in cand:\n",
    "            cand[row[2]] += 1\n",
    "        else:   \n",
    "            cand[row[2]] = 1   \n",
    "\n",
    "# calculate the percentage of votes for each candidate\n",
    "votes_per = {}\n",
    "for candidate, votes in cand.items():\n",
    "    percentage = (votes / total_votes) * 100\n",
    "    votes_per[candidate] = percentage\n",
    "\n",
    "# find the candidate with the most votes\n",
    "for candidate, votes in cand.items():\n",
    "    if votes > max_value_vote:\n",
    "        max_value_vote = votes\n",
    "        max_cand = candidate \n",
    "\n",
    "candidates = \"\"\n",
    "for candidate, percentage in votes_per.items():\n",
    "    # {candidate}: {percentage:.3f}% {cand[candidate]}\n",
    "    candidates += f\"{candidate}: {percentage:.3f}% {cand[candidate]}\\n\"\n",
    "    \n",
    "print(candidates)    \n",
    "\n",
    "   \n",
    "result_output = os.path.join(\"election_results.txt\")\n",
    "# # Export the results to text file\n",
    "with open(result_output, \"w\") as txt_file:\n",
    "    final_results = f\"\"\"\\n\n",
    "    Election Results\\n\n",
    "    -------------------------\\n\n",
    "    Total Votes: {total_votes}\\n\n",
    "    -------------------------\\n\n",
    "    {candidates}\\n\n",
    "    -------------------------\\n\n",
    "    Winner: {max_cand}\\n\n",
    "    -------------------------\\n\n",
    "    \"\"\"\n",
    "    print(final_results)\n",
    "    txt_file.write(final_results)"
   ]
  }
 ],
 "metadata": {
  "kernelspec": {
   "display_name": "Python 3 (ipykernel)",
   "language": "python",
   "name": "python3"
  },
  "language_info": {
   "codemirror_mode": {
    "name": "ipython",
    "version": 3
   },
   "file_extension": ".py",
   "mimetype": "text/x-python",
   "name": "python",
   "nbconvert_exporter": "python",
   "pygments_lexer": "ipython3",
   "version": "3.9.13"
  }
 },
 "nbformat": 4,
 "nbformat_minor": 5
}
